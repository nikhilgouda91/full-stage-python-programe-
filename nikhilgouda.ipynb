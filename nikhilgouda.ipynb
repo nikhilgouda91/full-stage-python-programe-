{
 "cells": [
  {
   "cell_type": "code",
   "execution_count": 1,
   "id": "915e2cdb-2991-41ec-8a87-820b9b5fd235",
   "metadata": {},
   "outputs": [
    {
     "name": "stdout",
     "output_type": "stream",
     "text": [
      "Hello,Python Full Stack Students!\n"
     ]
    }
   ],
   "source": [
    "print(\"Hello,Python Full Stack Students!\")\n"
   ]
  },
  {
   "cell_type": "code",
   "execution_count": 2,
   "id": "a86f6fce-0b3f-4df2-8ed0-b652fb3cff41",
   "metadata": {},
   "outputs": [
    {
     "name": "stdout",
     "output_type": "stream",
     "text": [
      "Welcome to Python Class Nikhil\n"
     ]
    }
   ],
   "source": [
    "print(\"Welcome to Python Class Nikhil\")"
   ]
  },
  {
   "cell_type": "code",
   "execution_count": 4,
   "id": "be947c08-4d3e-41f6-9192-f3218bfe719a",
   "metadata": {},
   "outputs": [
    {
     "name": "stdout",
     "output_type": "stream",
     "text": [
      "Nikhil 18 True\n"
     ]
    }
   ],
   "source": [
    "name=\"Nikhil\"\n",
    "age=18\n",
    "gpa=8.5\n",
    "is_student=True\n",
    "print(name,age,is_student)"
   ]
  },
  {
   "cell_type": "code",
   "execution_count": 5,
   "id": "85b40646-5767-49bb-a37c-f3daf2db3b48",
   "metadata": {},
   "outputs": [
    {
     "name": "stdout",
     "output_type": "stream",
     "text": [
      "<class 'int'> <class 'float'> <class 'str'> <class 'bool'>\n"
     ]
    }
   ],
   "source": [
    "x=10\n",
    "y=3.14\n",
    "z=\"Python\"\n",
    "flag=False\n",
    "print(type(x),type(y),type(z),type(flag))"
   ]
  },
  {
   "cell_type": "code",
   "execution_count": 12,
   "id": "9dae1961-3e55-48de-a1c1-13b93401eae1",
   "metadata": {},
   "outputs": [
    {
     "name": "stdout",
     "output_type": "stream",
     "text": [
      "Nikhil Avinash Python\n"
     ]
    }
   ],
   "source": [
    "name=\"Nikhil\"\n",
    "collage=\"Avinash\"\n",
    "favprogramming= \"Python\"\n",
    "print(name,collage,favprogramming)"
   ]
  },
  {
   "cell_type": "code",
   "execution_count": 13,
   "id": "3d2c2abb-ab48-4511-8481-659671645cc7",
   "metadata": {},
   "outputs": [
    {
     "name": "stdout",
     "output_type": "stream",
     "text": [
      "<class 'str'> <class 'str'> <class 'str'>\n"
     ]
    }
   ],
   "source": [
    "movie_name= \"Jaho\"\n",
    "release_date=2012\n",
    "rating=\"Good\"\n",
    "x=\"movie_name\"\n",
    "y=\"collage\"\n",
    "z=\"rating\"\n",
    "print(type(x),type(y),type(z))"
   ]
  },
  {
   "cell_type": "code",
   "execution_count": 16,
   "id": "3bb6a699-acd7-4ff5-a45d-30fdb9132cd6",
   "metadata": {},
   "outputs": [
    {
     "name": "stdout",
     "output_type": "stream",
     "text": [
      "-18\n"
     ]
    }
   ],
   "source": [
    "birth_year=2007\n",
    "curent_year=2025\n",
    "age= \"brith_year\",\"curent_year\"\n",
    "print(birth_year-curent_year)"
   ]
  },
  {
   "cell_type": "code",
   "execution_count": 17,
   "id": "8c36d508-22d3-41a3-a9a7-5f3bc71c4783",
   "metadata": {},
   "outputs": [
    {
     "name": "stdout",
     "output_type": "stream",
     "text": [
      "Addition: 19\n",
      "Division: 3.75\n",
      "Floor Division: 3\n",
      "Power: 50625\n"
     ]
    }
   ],
   "source": [
    "a=15\n",
    "b=4\n",
    "print(\"Addition:\",a+b)\n",
    "print(\"Division:\",a/b)\n",
    "print(\"Floor Division:\",a//b)\n",
    "print(\"Power:\",a**b)\n"
   ]
  },
  {
   "cell_type": "code",
   "execution_count": null,
   "id": "9bee8405-ab62-4ecd-9a42-7a7c3587d21d",
   "metadata": {},
   "outputs": [],
   "source": []
  }
 ],
 "metadata": {
  "kernelspec": {
   "display_name": "Python [conda env:base] *",
   "language": "python",
   "name": "conda-base-py"
  },
  "language_info": {
   "codemirror_mode": {
    "name": "ipython",
    "version": 3
   },
   "file_extension": ".py",
   "mimetype": "text/x-python",
   "name": "python",
   "nbconvert_exporter": "python",
   "pygments_lexer": "ipython3",
   "version": "3.13.5"
  }
 },
 "nbformat": 4,
 "nbformat_minor": 5
}
