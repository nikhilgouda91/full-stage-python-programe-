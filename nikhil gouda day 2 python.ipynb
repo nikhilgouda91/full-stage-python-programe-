{
 "cells": [
  {
   "cell_type": "code",
   "execution_count": 3,
   "id": "5945734d-7c2c-42cc-8842-810c03d39b9f",
   "metadata": {},
   "outputs": [
    {
     "name": "stdout",
     "output_type": "stream",
     "text": [
      "['apple', 'banana', 'mango', 'orange']\n",
      "banana\n"
     ]
    }
   ],
   "source": [
    "fruits=[\"apple\",\"banana\",\"mango\"]\n",
    "fruits.append(\"orange\")\n",
    "print(fruits)\n",
    "print(fruits[1])"
   ]
  },
  {
   "cell_type": "code",
   "execution_count": 4,
   "id": "74349a88-e0a5-4dc4-8dc8-ae52514c61fc",
   "metadata": {},
   "outputs": [
    {
     "name": "stdout",
     "output_type": "stream",
     "text": [
      "['circket', 'football', 'backetball', 'hockey']\n",
      "backetball\n"
     ]
    }
   ],
   "source": [
    "sports=[\"circket\",\"football\",\"backetball\"]\n",
    "sports.append(\"hockey\")\n",
    "print(sports)\n",
    "print(sports[2])"
   ]
  },
  {
   "cell_type": "code",
   "execution_count": 5,
   "id": "9be7dcf8-2c0d-486e-a55d-1f0c23781306",
   "metadata": {},
   "outputs": [
    {
     "name": "stdout",
     "output_type": "stream",
     "text": [
      "['apple', 'mango', 'orange']\n",
      "mango\n"
     ]
    }
   ],
   "source": [
    "fruits=[\"apple\",\"banana\",\"mango\"]\n",
    "fruits.append(\"orange\")\n",
    "fruits.remove(\"banana\")\n",
    "fruits.sort()\n",
    "print(fruits)\n",
    "print(fruits[1])"
   ]
  },
  {
   "cell_type": "code",
   "execution_count": 7,
   "id": "7566f74f-1091-40ec-906f-054ce7d29e4d",
   "metadata": {},
   "outputs": [
    {
     "name": "stdout",
     "output_type": "stream",
     "text": [
      "['backetball', 'football', 'hockey']\n",
      "football\n"
     ]
    }
   ],
   "source": [
    "sports=[\"circket\",\"football\",\"backetball\"]\n",
    "sports.append(\"hockey\")\n",
    "sports.remove(\"circket\")\n",
    "sports.sort()\n",
    "print(sports)\n",
    "print(sports[1])"
   ]
  },
  {
   "cell_type": "code",
   "execution_count": 9,
   "id": "24e42305-a307-4361-9fa2-e2ac377f7696",
   "metadata": {},
   "outputs": [
    {
     "name": "stdout",
     "output_type": "stream",
     "text": [
      "red\n"
     ]
    },
    {
     "data": {
      "text/plain": [
       "'green'"
      ]
     },
     "execution_count": 9,
     "metadata": {},
     "output_type": "execute_result"
    }
   ],
   "source": [
    "colors=(\"red\",\"green\",\"blue\")\n",
    "print(colors[0])\n",
    "colors[1]"
   ]
  },
  {
   "cell_type": "code",
   "execution_count": 10,
   "id": "bebf5aed-a0d3-4294-9136-c284a7687cd5",
   "metadata": {
    "jupyter": {
     "source_hidden": true
    }
   },
   "outputs": [
    {
     "name": "stdout",
     "output_type": "stream",
     "text": [
      "{1, 2, 3, 4, 5}\n"
     ]
    }
   ],
   "source": [
    "numbers={1,2,3,3,4}\n",
    "numbers.add(5)\n",
    "print(numbers)"
   ]
  },
  {
   "cell_type": "code",
   "execution_count": 11,
   "id": "3d0f7cfc-a0c9-4865-8658-21b4e8486667",
   "metadata": {},
   "outputs": [
    {
     "name": "stdout",
     "output_type": "stream",
     "text": [
      "['maths', 'english', 'economice', 'hindi', 'information prtical', 'history']\n",
      "economice\n"
     ]
    }
   ],
   "source": [
    "subject=[\"maths\",\"english\",\"economice\",\"hindi\",\"information prtical\"]\n",
    "subject.append(\"history\")\n",
    "print(subject)\n",
    "print(subject[2])"
   ]
  },
  {
   "cell_type": "code",
   "execution_count": 12,
   "id": "6ba5a47a-5a70-45d4-90d2-96b0f10b378b",
   "metadata": {},
   "outputs": [
    {
     "name": "stdout",
     "output_type": "stream",
     "text": [
      "circket\n"
     ]
    }
   ],
   "source": [
    "sports=[\"circket\",\"football\",\"backetball\"]\n",
    "print(sports[0])\n"
   ]
  },
  {
   "cell_type": "code",
   "execution_count": 18,
   "id": "cec3e7d1-ba77-4ded-877b-a421fcccdb1c",
   "metadata": {},
   "outputs": [
    {
     "name": "stdout",
     "output_type": "stream",
     "text": [
      "{'name': 'nikhil', 'age': 18, 'cource': 'Python full stack'}\n"
     ]
    }
   ],
   "source": [
    "student={\n",
    "    \"name\":\"nikhil\",\n",
    "    \"age\":18,\n",
    "     \"cource\":\"Python full stack\"\n",
    "}\n",
    "\n",
    "print(student)"
   ]
  },
  {
   "cell_type": "code",
   "execution_count": 34,
   "id": "94d091b7-2766-479c-9937-eeeefaab5050",
   "metadata": {},
   "outputs": [
    {
     "name": "stdout",
     "output_type": "stream",
     "text": [
      "nikhil\n",
      "{'name': 'nikhil', 'age': 20, 'cource': 'Python full stack'}\n",
      "dict_keys(['name', 'age', 'cource', 'college'])\n",
      "dict_values(['nikhil', 20, 'Python full stack', 'MU University'])\n",
      "{'name': 'nikhil', 'age': 20, 'cource': 'Python full stack', 'college': 'MU University'}\n"
     ]
    }
   ],
   "source": [
    "student={\n",
    "    \"name\":\"nikhil\",\n",
    "    \"age\":18,\n",
    "     \"cource\":\"Python full stack\"\n",
    "}\n",
    "print(student[\"name\"])\n",
    "student[\"age\"]=20\n",
    "print(student)\n",
    "student[\"college\"]=\"MU University\"\n",
    "print(student.keys())\n",
    "print(student.values())\n",
    "print(student)"
   ]
  },
  {
   "cell_type": "code",
   "execution_count": 50,
   "id": "bc98593c-5af8-428f-abe3-0bcf6247d2f3",
   "metadata": {},
   "outputs": [
    {
     "name": "stdout",
     "output_type": "stream",
     "text": [
      "Grade: B\n"
     ]
    }
   ],
   "source": [
    "marks=75\n",
    "if marks>=90:\n",
    "   print(\"Grade: A\")\n",
    "elif marks>=75:\n",
    "   print(\"Grade: B\")\n",
    "elif marks>=50:\n",
    "   print(\"Grade: C\")\n",
    "else:\n",
    "   print(\"Grade: Fail\")"
   ]
  },
  {
   "cell_type": "code",
   "execution_count": 57,
   "id": "72dfd8d8-951c-4707-a6b1-35744496bcc8",
   "metadata": {},
   "outputs": [
    {
     "name": "stdout",
     "output_type": "stream",
     "text": [
      "Number: 1\n",
      "Number: 2\n",
      "Number: 3\n",
      "Number: 4\n",
      "Number: 5\n"
     ]
    }
   ],
   "source": [
    "for i in range(1,6):\n",
    "    print(\"Number:\", i)"
   ]
  },
  {
   "cell_type": "code",
   "execution_count": 58,
   "id": "a260a63f-b51a-4edb-9341-1ed38ba2056e",
   "metadata": {},
   "outputs": [
    {
     "name": "stdout",
     "output_type": "stream",
     "text": [
      "Count: 1\n",
      "Count: 2\n",
      "Count: 3\n",
      "Count: 4\n",
      "Count: 5\n"
     ]
    }
   ],
   "source": [
    "count=1\n",
    "while count<=5:\n",
    "    print(\"Count:\",count)\n",
    "    count +=1"
   ]
  },
  {
   "cell_type": "code",
   "execution_count": 60,
   "id": "b82802b3-b179-4fcf-b46f-a3dab01d7d20",
   "metadata": {},
   "outputs": [
    {
     "name": "stdout",
     "output_type": "stream",
     "text": [
      "1\n",
      "2\n",
      "3\n",
      "4\n"
     ]
    }
   ],
   "source": [
    "for i in range(1,10):\n",
    "    if i ==5:\n",
    "        break\n",
    "    print(i)"
   ]
  },
  {
   "cell_type": "code",
   "execution_count": 62,
   "id": "2d1eb68e-3a74-4d38-a6df-6b5319c75e90",
   "metadata": {},
   "outputs": [
    {
     "name": "stdout",
     "output_type": "stream",
     "text": [
      "Number: 1\n",
      "Number: 2\n",
      "Number: 3\n",
      "Number: 4\n",
      "Number: 5\n",
      "Number: 6\n",
      "Number: 7\n",
      "Number: 8\n",
      "Number: 9\n"
     ]
    }
   ],
   "source": [
    "for i in range(1,10):\n",
    "    print(\"Number:\",i)"
   ]
  },
  {
   "cell_type": "code",
   "execution_count": 64,
   "id": "22f36711-9a26-46cb-b16b-e0fbac7b1425",
   "metadata": {},
   "outputs": [
    {
     "name": "stdout",
     "output_type": "stream",
     "text": [
      "Count: 1\n",
      "Count: 2\n",
      "Count: 3\n",
      "Count: 4\n",
      "Count: 5\n",
      "Count: 6\n",
      "Count: 7\n",
      "Count: 8\n",
      "Count: 9\n",
      "Count: 10\n",
      "Count: 11\n",
      "Count: 12\n",
      "Count: 13\n",
      "Count: 14\n",
      "Count: 15\n",
      "Count: 16\n",
      "Count: 17\n",
      "Count: 18\n",
      "Count: 19\n",
      "Count: 20\n",
      "Count: 21\n",
      "Count: 22\n",
      "Count: 23\n",
      "Count: 24\n",
      "Count: 25\n",
      "Count: 26\n",
      "Count: 27\n",
      "Count: 28\n",
      "Count: 29\n",
      "Count: 30\n",
      "Count: 31\n",
      "Count: 32\n",
      "Count: 33\n",
      "Count: 34\n",
      "Count: 35\n",
      "Count: 36\n",
      "Count: 37\n",
      "Count: 38\n",
      "Count: 39\n",
      "Count: 40\n",
      "Count: 41\n",
      "Count: 42\n",
      "Count: 43\n",
      "Count: 44\n",
      "Count: 45\n",
      "Count: 46\n",
      "Count: 47\n",
      "Count: 48\n",
      "Count: 49\n",
      "Count: 50\n",
      "Count: 51\n",
      "Count: 52\n",
      "Count: 53\n",
      "Count: 54\n",
      "Count: 55\n",
      "Count: 56\n",
      "Count: 57\n",
      "Count: 58\n",
      "Count: 59\n",
      "Count: 60\n",
      "Count: 61\n",
      "Count: 62\n",
      "Count: 63\n",
      "Count: 64\n",
      "Count: 65\n",
      "Count: 66\n",
      "Count: 67\n",
      "Count: 68\n",
      "Count: 69\n",
      "Count: 70\n",
      "Count: 71\n",
      "Count: 72\n",
      "Count: 73\n",
      "Count: 74\n",
      "Count: 75\n",
      "Count: 76\n",
      "Count: 77\n",
      "Count: 78\n",
      "Count: 79\n",
      "Count: 80\n",
      "Count: 81\n",
      "Count: 82\n",
      "Count: 83\n",
      "Count: 84\n",
      "Count: 85\n",
      "Count: 86\n",
      "Count: 87\n",
      "Count: 88\n",
      "Count: 89\n",
      "Count: 90\n",
      "Count: 91\n",
      "Count: 92\n",
      "Count: 93\n",
      "Count: 94\n",
      "Count: 95\n",
      "Count: 96\n",
      "Count: 97\n",
      "Count: 98\n",
      "Count: 99\n",
      "Count: 100\n"
     ]
    }
   ],
   "source": [
    "count=1\n",
    "while count<=100:\n",
    "    print(\"Count:\",count)\n",
    "    count+=1"
   ]
  },
  {
   "cell_type": "code",
   "execution_count": null,
   "id": "40b99c80-81c7-4d5f-a75e-10772998a2a8",
   "metadata": {},
   "outputs": [],
   "source": []
  },
  {
   "cell_type": "code",
   "execution_count": null,
   "id": "7d5f6c0a-6e3b-40ef-9b87-a7ec7b14afac",
   "metadata": {},
   "outputs": [],
   "source": []
  }
 ],
 "metadata": {
  "kernelspec": {
   "display_name": "Python [conda env:base] *",
   "language": "python",
   "name": "conda-base-py"
  },
  "language_info": {
   "codemirror_mode": {
    "name": "ipython",
    "version": 3
   },
   "file_extension": ".py",
   "mimetype": "text/x-python",
   "name": "python",
   "nbconvert_exporter": "python",
   "pygments_lexer": "ipython3",
   "version": "3.13.5"
  }
 },
 "nbformat": 4,
 "nbformat_minor": 5
}
